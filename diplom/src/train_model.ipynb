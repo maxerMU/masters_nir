{
 "cells": [
  {
   "cell_type": "code",
   "execution_count": null,
   "metadata": {},
   "outputs": [],
   "source": [
    "import re\n",
    "import seaborn as sns\n",
    "import threading\n",
    "import torch\n",
    "import pandas as pd\n",
    "from tqdm import tqdm\n",
    "from copy import deepcopy\n",
    "\n",
    "from dataclasses import dataclass, fields, asdict\n",
    "from abc import ABC, abstractmethod\n",
    "from model.model import PageAccModel\n",
    "from logfile_reader import read_pages, save_pages_accs, read_optimal_results, Page"
   ]
  },
  {
   "cell_type": "markdown",
   "metadata": {},
   "source": [
    "# Load data"
   ]
  },
  {
   "cell_type": "code",
   "execution_count": 3,
   "metadata": {},
   "outputs": [],
   "source": [
    "pages = read_pages(\"train_data/acc_logfile2\")"
   ]
  },
  {
   "cell_type": "code",
   "execution_count": 4,
   "metadata": {},
   "outputs": [],
   "source": [
    "save_pages_accs(\"train_data/acc_logfile2_pages\")"
   ]
  },
  {
   "cell_type": "code",
   "execution_count": 5,
   "metadata": {},
   "outputs": [
    {
     "name": "stdout",
     "output_type": "stream",
     "text": [
      "1024067\n"
     ]
    }
   ],
   "source": [
    "print(len(pages))"
   ]
  },
  {
   "cell_type": "code",
   "execution_count": 6,
   "metadata": {},
   "outputs": [],
   "source": [
    "optimal_results = read_optimal_results(\"train_data/acc_logfile2_victims\")"
   ]
  },
  {
   "cell_type": "code",
   "execution_count": 7,
   "metadata": {},
   "outputs": [
    {
     "data": {
      "text/plain": [
       "1024067"
      ]
     },
     "execution_count": 7,
     "metadata": {},
     "output_type": "execute_result"
    }
   ],
   "source": [
    "len(optimal_results)"
   ]
  },
  {
   "cell_type": "code",
   "execution_count": 22,
   "metadata": {},
   "outputs": [],
   "source": [
    "TRAIN_SIZE = len(pages)\n",
    "BATCH_SIZE = 2\n",
    "BUFFER_SIZE = 32"
   ]
  },
  {
   "cell_type": "code",
   "execution_count": 9,
   "metadata": {},
   "outputs": [
    {
     "data": {
      "text/plain": [
       "1024067"
      ]
     },
     "execution_count": 9,
     "metadata": {},
     "output_type": "execute_result"
    }
   ],
   "source": [
    "TRAIN_SIZE"
   ]
  },
  {
   "cell_type": "markdown",
   "metadata": {},
   "source": [
    "# Analyse data"
   ]
  },
  {
   "cell_type": "code",
   "execution_count": 10,
   "metadata": {},
   "outputs": [
    {
     "data": {
      "text/plain": [
       "0.6318912727389907"
      ]
     },
     "execution_count": 10,
     "metadata": {},
     "output_type": "execute_result"
    }
   ],
   "source": [
    "sum([page.hit for page in pages[:TRAIN_SIZE]]) / TRAIN_SIZE"
   ]
  },
  {
   "cell_type": "code",
   "execution_count": 11,
   "metadata": {},
   "outputs": [
    {
     "data": {
      "text/plain": [
       "0.6844718167854251"
      ]
     },
     "execution_count": 11,
     "metadata": {},
     "output_type": "execute_result"
    }
   ],
   "source": [
    "# find_optimal_hit_rate([page.buffer for page in pages[:TRAIN_SIZE]], BUFFER_SIZE)\n",
    "sum([1 if len(victims) == 0 else 0 for victims in optimal_results[:TRAIN_SIZE]]) / TRAIN_SIZE"
   ]
  },
  {
   "cell_type": "code",
   "execution_count": 12,
   "metadata": {},
   "outputs": [
    {
     "data": {
      "text/plain": [
       "<Axes: ylabel='Count'>"
      ]
     },
     "execution_count": 12,
     "metadata": {},
     "output_type": "execute_result"
    },
    {
     "data": {
      "image/png": "[encoded data removed]",
      "text/plain": [
       "<Figure size 640x480 with 1 Axes>"
      ]
     },
     "metadata": {},
     "output_type": "display_data"
    }
   ],
   "source": [
    "sns.histplot([victims[0][0] for victims in optimal_results[:TRAIN_SIZE] if len(victims) != 0])"
   ]
  },
  {
   "cell_type": "code",
   "execution_count": 13,
   "metadata": {},
   "outputs": [
    {
     "data": {
      "text/plain": [
       "<Axes: xlabel='None'>"
      ]
     },
     "execution_count": 13,
     "metadata": {},
     "output_type": "execute_result"
    },
    {
     "data": {
      "image/png": "[encoded data removed]",
      "text/plain": [
       "<Figure size 640x480 with 1 Axes>"
      ]
     },
     "metadata": {},
     "output_type": "display_data"
    }
   ],
   "source": [
    "# sns.histplot([page.is_local_temp for page in pages], discrete=True)\n",
    "# sns.histplot([page.mode for page in pages], discrete=True)\n",
    "\n",
    "# sns.histplot([page.relam for page in pages], discrete=True)\n",
    "data = pd.Series([page.relminmxid for page in pages])\n",
    "value_counts = data.value_counts()\n",
    "sns.barplot(x=value_counts.index, y=value_counts.values)\n"
   ]
  },
  {
   "cell_type": "markdown",
   "metadata": {},
   "source": [
    "# Train"
   ]
  },
  {
   "cell_type": "code",
   "execution_count": 25,
   "metadata": {},
   "outputs": [],
   "source": [
    "def get_model_optimal_res(pages, buffer, current_index):\n",
    "    res = [0] * (len(buffer))\n",
    "    if (current_index >= len(pages)):\n",
    "        print(f\"ERROR: current_index=={current_index} pages.size() == {len(pages)}\")\n",
    "\n",
    "\n",
    "    page_in_buffer = next(filter(lambda x: x[1].buffer == pages[current_index].buffer, enumerate(buffer)), None)\n",
    "    if page_in_buffer is not None:\n",
    "        return res, page_in_buffer[0]\n",
    "    \n",
    "    empty_pages = [index for index, value in enumerate(buffer) if value.buffer == -1]\n",
    "    if len(empty_pages) > 0:\n",
    "        for i in empty_pages:\n",
    "            res[i] = 1 / len(empty_pages)\n",
    "        \n",
    "        return res, empty_pages[0]\n",
    "    \n",
    "    # victims_rates = optimal_results[current_index]\n",
    "    # victim_rates_sum = sum([victim[1] for victim in victims_rates])\n",
    "    # for victim, rate in victims_rates:\n",
    "    #     res[victim] = rate / victim_rates_sum\n",
    "    victims_rates = optimal_results[current_index]\n",
    "    res[victims_rates[0][0]] = 1\n",
    "\n",
    "    return res, victims_rates[0][0]"
   ]
  },
  {
   "cell_type": "code",
   "execution_count": 17,
   "metadata": {},
   "outputs": [],
   "source": [
    "def get_train_data(pages, buffer, batch_start, batch_end):\n",
    "    pages_acc = torch.Tensor([list(asdict(page).values()) for page in pages[batch_start:batch_end]])\n",
    "\n",
    "    buffers = []\n",
    "    optimal_predictions = []\n",
    "    hit_fail_mask = []\n",
    "\n",
    "    for i in range(batch_start, batch_end):\n",
    "        buffers.append([value for obj in buffer for value in asdict(obj).values()])\n",
    "\n",
    "        res, victim = get_model_optimal_res(pages, buffer, i)\n",
    "        optimal_predictions.append(res)\n",
    "\n",
    "        if sum(res) > 0:\n",
    "            buffer[victim] = deepcopy(pages[i])\n",
    "            buffer[victim].hit = victim\n",
    "            pages_acc[i - batch_start][-1] = BUFFER_SIZE\n",
    "            hit_fail_mask.append(1)\n",
    "        else:\n",
    "            pages_acc[i - batch_start][-1] = victim\n",
    "            hit_fail_mask.append(0)\n",
    "    \n",
    "    return pages_acc, torch.Tensor(buffers), torch.Tensor(optimal_predictions), buffer, torch.tensor(hit_fail_mask, dtype=torch.bool)"
   ]
  },
  {
   "cell_type": "code",
   "execution_count": 16,
   "metadata": {},
   "outputs": [
    {
     "data": {
      "text/plain": [
       "device(type='cpu')"
      ]
     },
     "execution_count": 16,
     "metadata": {},
     "output_type": "execute_result"
    }
   ],
   "source": [
    "device = torch.device(\"cuda\" if torch.cuda.is_available() else \"cpu\")\n",
    "device"
   ]
  },
  {
   "cell_type": "code",
   "execution_count": 26,
   "metadata": {},
   "outputs": [],
   "source": [
    "model = PageAccModel(len(fields(Page)), 256, 512, BUFFER_SIZE).to(device)"
   ]
  },
  {
   "cell_type": "code",
   "execution_count": 27,
   "metadata": {},
   "outputs": [
    {
     "name": "stderr",
     "output_type": "stream",
     "text": [
      "  0%|          | 2/512034 [00:00<9:38:14, 14.76it/s, loss=nan]    "
     ]
    },
    {
     "name": "stdout",
     "output_type": "stream",
     "text": [
      "===============\n",
      "tensor([[ 1.,  0.,  0.,  2.,  0.,  1.,  0., 17.,  0.,  0., 32.],\n",
      "        [ 2.,  0.,  0.,  2.,  0.,  1.,  0., 12.,  0.,  0., 32.]])\n",
      "[1, 2, -1, -1, -1, -1, -1, -1, -1, -1, -1, -1, -1, -1, -1, -1, -1, -1, -1, -1, -1, -1, -1, -1, -1, -1, -1, -1, -1, -1, -1, -1]\n",
      "===============\n",
      "===============\n",
      "tensor([[ 2.,  0.,  0.,  2.,  0.,  1.,  0., 12.,  0.,  0.,  1.],\n",
      "        [ 1.,  0.,  0.,  2.,  0.,  1.,  0., 17.,  0.,  0.,  0.]])\n",
      "[1, 2, -1, -1, -1, -1, -1, -1, -1, -1, -1, -1, -1, -1, -1, -1, -1, -1, -1, -1, -1, -1, -1, -1, -1, -1, -1, -1, -1, -1, -1, -1]\n",
      "===============\n",
      "===============\n",
      "tensor([[ 1.,  0.,  0.,  2.,  0.,  1.,  0., 17.,  0.,  0.,  0.],\n",
      "        [ 3.,  0.,  0.,  2.,  0.,  1.,  0., 33.,  0.,  0., 32.]])\n",
      "[1, 2, 3, -1, -1, -1, -1, -1, -1, -1, -1, -1, -1, -1, -1, -1, -1, -1, -1, -1, -1, -1, -1, -1, -1, -1, -1, -1, -1, -1, -1, -1]\n",
      "===============\n",
      "===============\n",
      "tensor([[ 4.,  0.,  1.,  2.,  0.,  1.,  0., 33.,  0.,  0., 32.],\n",
      "        [ 5.,  0.,  2.,  2.,  0.,  1.,  0., 33.,  0.,  0., 32.]])\n",
      "[1, 2, 3, 4, 5, -1, -1, -1, -1, -1, -1, -1, -1, -1, -1, -1, -1, -1, -1, -1, -1, -1, -1, -1, -1, -1, -1, -1, -1, -1, -1, -1]\n",
      "===============\n"
     ]
    },
    {
     "name": "stderr",
     "output_type": "stream",
     "text": [
      "  0%|          | 6/512034 [00:00<9:15:36, 15.36it/s, loss=nan]"
     ]
    },
    {
     "name": "stdout",
     "output_type": "stream",
     "text": [
      "===============\n",
      "tensor([[ 6.,  0.,  3.,  2.,  0.,  1.,  0., 33.,  0.,  0., 32.],\n",
      "        [ 7.,  0.,  0.,  2.,  0.,  1.,  0., 26.,  0.,  0., 32.]])\n",
      "[1, 2, 3, 4, 5, 6, 7, -1, -1, -1, -1, -1, -1, -1, -1, -1, -1, -1, -1, -1, -1, -1, -1, -1, -1, -1, -1, -1, -1, -1, -1, -1]\n",
      "===============\n",
      "===============\n",
      "tensor([[ 8.,  0.,  1.,  2.,  0.,  1.,  0., 26.,  0.,  0., 32.],\n",
      "        [ 9.,  0.,  2.,  2.,  0.,  1.,  0., 26.,  0.,  0., 32.]])\n",
      "[1, 2, 3, 4, 5, 6, 7, 8, 9, -1, -1, -1, -1, -1, -1, -1, -1, -1, -1, -1, -1, -1, -1, -1, -1, -1, -1, -1, -1, -1, -1, -1]\n",
      "===============\n",
      "===============\n",
      "tensor([[10.,  0.,  3.,  2.,  0.,  1.,  0., 26.,  0.,  0., 32.],\n",
      "        [11.,  0.,  4.,  2.,  0.,  1.,  0., 26.,  0.,  0., 32.]])\n",
      "[1, 2, 3, 4, 5, 6, 7, 8, 9, 10, 11, -1, -1, -1, -1, -1, -1, -1, -1, -1, -1, -1, -1, -1, -1, -1, -1, -1, -1, -1, -1, -1]\n",
      "===============\n",
      "===============\n",
      "tensor([[12.,  0.,  5.,  2.,  0.,  1.,  0., 26.,  0.,  0., 32.],\n",
      "        [13.,  0.,  6.,  2.,  0.,  1.,  0., 26.,  0.,  0., 32.]])\n",
      "[1, 2, 3, 4, 5, 6, 7, 8, 9, 10, 11, 12, 13, -1, -1, -1, -1, -1, -1, -1, -1, -1, -1, -1, -1, -1, -1, -1, -1, -1, -1, -1]\n",
      "===============\n"
     ]
    },
    {
     "name": "stderr",
     "output_type": "stream",
     "text": [
      "  0%|          | 10/512034 [00:00<9:10:04, 15.51it/s, loss=nan]"
     ]
    },
    {
     "name": "stdout",
     "output_type": "stream",
     "text": [
      "===============\n",
      "tensor([[14.,  0.,  7.,  2.,  0.,  1.,  0., 26.,  0.,  0., 32.],\n",
      "        [15.,  0.,  8.,  2.,  0.,  1.,  0., 26.,  0.,  0., 32.]])\n",
      "[1, 2, 3, 4, 5, 6, 7, 8, 9, 10, 11, 12, 13, 14, 15, -1, -1, -1, -1, -1, -1, -1, -1, -1, -1, -1, -1, -1, -1, -1, -1, -1]\n",
      "===============\n",
      "===============\n",
      "tensor([[16.,  0.,  9.,  2.,  0.,  1.,  0., 26.,  0.,  0., 32.],\n",
      "        [17.,  0., 10.,  2.,  0.,  1.,  0., 26.,  0.,  0., 32.]])\n",
      "[1, 2, 3, 4, 5, 6, 7, 8, 9, 10, 11, 12, 13, 14, 15, 16, 17, -1, -1, -1, -1, -1, -1, -1, -1, -1, -1, -1, -1, -1, -1, -1]\n",
      "===============\n",
      "===============\n",
      "tensor([[18.,  0., 11.,  2.,  0.,  1.,  0., 26.,  0.,  0., 32.],\n",
      "        [19.,  0., 12.,  2.,  0.,  1.,  0., 26.,  0.,  0., 32.]])\n",
      "[1, 2, 3, 4, 5, 6, 7, 8, 9, 10, 11, 12, 13, 14, 15, 16, 17, 18, 19, -1, -1, -1, -1, -1, -1, -1, -1, -1, -1, -1, -1, -1]\n",
      "===============\n",
      "===============\n",
      "tensor([[20.,  0., 13.,  2.,  0.,  1.,  0., 26.,  0.,  0., 32.],\n",
      "        [21.,  0., 14.,  2.,  0.,  1.,  0., 26.,  0.,  0., 32.]])\n",
      "[1, 2, 3, 4, 5, 6, 7, 8, 9, 10, 11, 12, 13, 14, 15, 16, 17, 18, 19, 20, 21, -1, -1, -1, -1, -1, -1, -1, -1, -1, -1, -1]\n",
      "===============\n"
     ]
    },
    {
     "name": "stderr",
     "output_type": "stream",
     "text": [
      "  0%|          | 14/512034 [00:00<8:59:53, 15.81it/s, loss=nan]"
     ]
    },
    {
     "name": "stdout",
     "output_type": "stream",
     "text": [
      "===============\n",
      "tensor([[22.,  0., 15.,  2.,  0.,  1.,  0., 26.,  0.,  0., 32.],\n",
      "        [ 7.,  0., 16.,  2.,  0.,  1.,  0., 26.,  0.,  0.,  6.]])\n",
      "[1, 2, 3, 4, 5, 6, 7, 8, 9, 10, 11, 12, 13, 14, 15, 16, 17, 18, 19, 20, 21, 22, -1, -1, -1, -1, -1, -1, -1, -1, -1, -1]\n",
      "===============\n",
      "===============\n",
      "tensor([[ 8.,  0., 17.,  2.,  0.,  1.,  0., 26.,  0.,  0.,  7.],\n",
      "        [ 9.,  0., 18.,  2.,  0.,  1.,  0., 26.,  0.,  0.,  8.]])\n",
      "[1, 2, 3, 4, 5, 6, 7, 8, 9, 10, 11, 12, 13, 14, 15, 16, 17, 18, 19, 20, 21, 22, -1, -1, -1, -1, -1, -1, -1, -1, -1, -1]\n",
      "===============\n",
      "===============\n",
      "tensor([[10.,  0., 19.,  2.,  0.,  1.,  0., 26.,  0.,  0.,  9.],\n",
      "        [11.,  0., 20.,  2.,  0.,  1.,  0., 26.,  0.,  0., 10.]])\n",
      "[1, 2, 3, 4, 5, 6, 7, 8, 9, 10, 11, 12, 13, 14, 15, 16, 17, 18, 19, 20, 21, 22, -1, -1, -1, -1, -1, -1, -1, -1, -1, -1]\n",
      "===============\n",
      "===============\n",
      "tensor([[12.,  0., 21.,  2.,  0.,  1.,  0., 26.,  0.,  0., 11.],\n",
      "        [13.,  0., 22.,  2.,  0.,  1.,  0., 26.,  0.,  0., 12.]])\n",
      "[1, 2, 3, 4, 5, 6, 7, 8, 9, 10, 11, 12, 13, 14, 15, 16, 17, 18, 19, 20, 21, 22, -1, -1, -1, -1, -1, -1, -1, -1, -1, -1]\n",
      "===============\n"
     ]
    },
    {
     "name": "stderr",
     "output_type": "stream",
     "text": [
      "  0%|          | 18/512034 [00:01<9:29:53, 14.97it/s, loss=nan]"
     ]
    },
    {
     "name": "stdout",
     "output_type": "stream",
     "text": [
      "===============\n",
      "tensor([[14.,  0., 23.,  2.,  0.,  1.,  0., 26.,  0.,  0., 13.],\n",
      "        [15.,  0., 24.,  2.,  0.,  1.,  0., 26.,  0.,  0., 14.]])\n",
      "[1, 2, 3, 4, 5, 6, 7, 8, 9, 10, 11, 12, 13, 14, 15, 16, 17, 18, 19, 20, 21, 22, -1, -1, -1, -1, -1, -1, -1, -1, -1, -1]\n",
      "===============\n",
      "===============\n",
      "tensor([[16.,  0., 25.,  2.,  0.,  1.,  0., 26.,  0.,  0., 15.],\n",
      "        [ 3.,  0.,  0.,  2.,  0.,  1.,  0., 33.,  0.,  0.,  2.]])\n",
      "[1, 2, 3, 4, 5, 6, 7, 8, 9, 10, 11, 12, 13, 14, 15, 16, 17, 18, 19, 20, 21, 22, -1, -1, -1, -1, -1, -1, -1, -1, -1, -1]\n",
      "===============\n",
      "===============\n",
      "tensor([[ 4.,  0.,  1.,  2.,  0.,  1.,  0., 33.,  0.,  0.,  3.],\n",
      "        [ 5.,  0.,  2.,  2.,  0.,  1.,  0., 33.,  0.,  0.,  4.]])\n",
      "[1, 2, 3, 4, 5, 6, 7, 8, 9, 10, 11, 12, 13, 14, 15, 16, 17, 18, 19, 20, 21, 22, -1, -1, -1, -1, -1, -1, -1, -1, -1, -1]\n",
      "===============\n"
     ]
    },
    {
     "name": "stderr",
     "output_type": "stream",
     "text": [
      "  0%|          | 22/512034 [00:01<8:59:07, 15.83it/s, loss=nan]"
     ]
    },
    {
     "name": "stdout",
     "output_type": "stream",
     "text": [
      "===============\n",
      "tensor([[ 6.,  0.,  3.,  2.,  0.,  1.,  0., 33.,  0.,  0.,  5.],\n",
      "        [23.,  0.,  4.,  2.,  0.,  1.,  0., 33.,  0.,  0., 32.]])\n",
      "[1, 2, 3, 4, 5, 6, 7, 8, 9, 10, 11, 12, 13, 14, 15, 16, 17, 18, 19, 20, 21, 22, 23, -1, -1, -1, -1, -1, -1, -1, -1, -1]\n",
      "===============\n",
      "===============\n",
      "tensor([[24.,  0.,  5.,  2.,  0.,  1.,  0., 33.,  0.,  0., 32.],\n",
      "        [25.,  0.,  6.,  2.,  0.,  1.,  0., 33.,  0.,  0., 32.]])\n",
      "[1, 2, 3, 4, 5, 6, 7, 8, 9, 10, 11, 12, 13, 14, 15, 16, 17, 18, 19, 20, 21, 22, 23, 24, 25, -1, -1, -1, -1, -1, -1, -1]\n",
      "===============\n",
      "===============\n",
      "tensor([[26.,  0.,  7.,  2.,  0.,  1.,  0., 33.,  0.,  0., 32.],\n",
      "        [27.,  0.,  0.,  2.,  0.,  1.,  0., 26.,  0.,  0., 32.]])\n",
      "[1, 2, 3, 4, 5, 6, 7, 8, 9, 10, 11, 12, 13, 14, 15, 16, 17, 18, 19, 20, 21, 22, 23, 24, 25, 26, 27, -1, -1, -1, -1, -1]\n",
      "===============\n",
      "===============\n",
      "tensor([[28.,  0.,  1.,  2.,  0.,  1.,  0., 26.,  0.,  0., 32.],\n",
      "        [29.,  0.,  2.,  2.,  0.,  1.,  0., 26.,  0.,  0., 32.]])\n",
      "[1, 2, 3, 4, 5, 6, 7, 8, 9, 10, 11, 12, 13, 14, 15, 16, 17, 18, 19, 20, 21, 22, 23, 24, 25, 26, 27, 28, 29, -1, -1, -1]\n",
      "===============\n"
     ]
    },
    {
     "name": "stderr",
     "output_type": "stream",
     "text": [
      "  0%|          | 26/512034 [00:01<8:58:47, 15.84it/s, loss=nan]"
     ]
    },
    {
     "name": "stdout",
     "output_type": "stream",
     "text": [
      "===============\n",
      "tensor([[3.0000e+01, 0.0000e+00, 3.0000e+00, 2.0000e+00, 0.0000e+00, 1.0000e+00,\n",
      "         0.0000e+00, 2.6000e+01, 0.0000e+00, 0.0000e+00, 3.2000e+01],\n",
      "        [3.1000e+01, 0.0000e+00, 0.0000e+00, 2.0000e+00, 2.6100e+03, 1.0000e+00,\n",
      "         0.0000e+00, 2.1000e+01, 7.2200e+02, 1.0000e+00, 3.2000e+01]])\n",
      "[1, 2, 3, 4, 5, 6, 7, 8, 9, 10, 11, 12, 13, 14, 15, 16, 17, 18, 19, 20, 21, 22, 23, 24, 25, 26, 27, 28, 29, 30, 31, -1]\n",
      "===============\n",
      "===============\n",
      "tensor([[3.2000e+01, 0.0000e+00, 1.0000e+00, 2.0000e+00, 2.6100e+03, 1.0000e+00,\n",
      "         0.0000e+00, 2.1000e+01, 7.2200e+02, 1.0000e+00, 3.2000e+01],\n",
      "        [3.3000e+01, 0.0000e+00, 2.0000e+00, 2.0000e+00, 2.6100e+03, 1.0000e+00,\n",
      "         0.0000e+00, 2.1000e+01, 7.2200e+02, 1.0000e+00, 3.2000e+01]])\n",
      "[1, 33, 3, 4, 5, 6, 7, 8, 9, 10, 11, 12, 13, 14, 15, 16, 17, 18, 19, 20, 21, 22, 23, 24, 25, 26, 27, 28, 29, 30, 31, 32]\n",
      "===============\n",
      "===============\n",
      "tensor([[3.4000e+01, 0.0000e+00, 3.0000e+00, 2.0000e+00, 2.6100e+03, 1.0000e+00,\n",
      "         0.0000e+00, 2.1000e+01, 7.2200e+02, 1.0000e+00, 3.2000e+01],\n",
      "        [3.0000e+00, 0.0000e+00, 0.0000e+00, 2.0000e+00, 0.0000e+00, 1.0000e+00,\n",
      "         0.0000e+00, 3.3000e+01, 0.0000e+00, 0.0000e+00, 2.0000e+00]])\n",
      "[34, 33, 3, 4, 5, 6, 7, 8, 9, 10, 11, 12, 13, 14, 15, 16, 17, 18, 19, 20, 21, 22, 23, 24, 25, 26, 27, 28, 29, 30, 31, 32]\n",
      "===============\n",
      "===============\n",
      "tensor([[ 4.,  0.,  1.,  2.,  0.,  1.,  0., 33.,  0.,  0.,  3.],\n",
      "        [ 5.,  0.,  2.,  2.,  0.,  1.,  0., 33.,  0.,  0.,  4.]])\n",
      "[34, 33, 3, 4, 5, 6, 7, 8, 9, 10, 11, 12, 13, 14, 15, 16, 17, 18, 19, 20, 21, 22, 23, 24, 25, 26, 27, 28, 29, 30, 31, 32]\n",
      "===============\n"
     ]
    },
    {
     "name": "stderr",
     "output_type": "stream",
     "text": [
      "  0%|          | 30/512034 [00:01<8:15:29, 17.22it/s, loss=nan]"
     ]
    },
    {
     "name": "stdout",
     "output_type": "stream",
     "text": [
      "===============\n",
      "tensor([[ 6.,  0.,  3.,  2.,  0.,  1.,  0., 33.,  0.,  0.,  5.],\n",
      "        [23.,  0.,  4.,  2.,  0.,  1.,  0., 33.,  0.,  0., 22.]])\n",
      "[34, 33, 3, 4, 5, 6, 7, 8, 9, 10, 11, 12, 13, 14, 15, 16, 17, 18, 19, 20, 21, 22, 23, 24, 25, 26, 27, 28, 29, 30, 31, 32]\n",
      "===============\n",
      "===============\n",
      "tensor([[24.,  0.,  5.,  2.,  0.,  1.,  0., 33.,  0.,  0., 23.],\n",
      "        [25.,  0.,  6.,  2.,  0.,  1.,  0., 33.,  0.,  0., 24.]])\n",
      "[34, 33, 3, 4, 5, 6, 7, 8, 9, 10, 11, 12, 13, 14, 15, 16, 17, 18, 19, 20, 21, 22, 23, 24, 25, 26, 27, 28, 29, 30, 31, 32]\n",
      "===============\n",
      "===============\n",
      "tensor([[26.,  0.,  7.,  2.,  0.,  1.,  0., 33.,  0.,  0., 25.],\n",
      "        [35.,  0.,  8.,  2.,  0.,  1.,  0., 33.,  0.,  0., 32.]])\n",
      "[35, 33, 3, 4, 5, 6, 7, 8, 9, 10, 11, 12, 13, 14, 15, 16, 17, 18, 19, 20, 21, 22, 23, 24, 25, 26, 27, 28, 29, 30, 31, 32]\n",
      "===============\n",
      "===============\n",
      "tensor([[27.,  0.,  0.,  2.,  0.,  1.,  0., 26.,  0.,  0., 26.],\n",
      "        [28.,  0.,  1.,  2.,  0.,  1.,  0., 26.,  0.,  0., 27.]])\n",
      "[35, 33, 3, 4, 5, 6, 7, 8, 9, 10, 11, 12, 13, 14, 15, 16, 17, 18, 19, 20, 21, 22, 23, 24, 25, 26, 27, 28, 29, 30, 31, 32]\n",
      "===============\n"
     ]
    },
    {
     "name": "stderr",
     "output_type": "stream",
     "text": [
      "  0%|          | 34/512034 [00:02<8:06:43, 17.53it/s, loss=nan]"
     ]
    },
    {
     "name": "stdout",
     "output_type": "stream",
     "text": [
      "===============\n",
      "tensor([[29.,  0.,  2.,  2.,  0.,  1.,  0., 26.,  0.,  0., 28.],\n",
      "        [30.,  0.,  3.,  2.,  0.,  1.,  0., 26.,  0.,  0., 29.]])\n",
      "[35, 33, 3, 4, 5, 6, 7, 8, 9, 10, 11, 12, 13, 14, 15, 16, 17, 18, 19, 20, 21, 22, 23, 24, 25, 26, 27, 28, 29, 30, 31, 32]\n",
      "===============\n",
      "===============\n",
      "tensor([[3.6000e+01, 0.0000e+00, 4.0000e+00, 2.0000e+00, 0.0000e+00, 1.0000e+00,\n",
      "         0.0000e+00, 2.6000e+01, 0.0000e+00, 0.0000e+00, 3.2000e+01],\n",
      "        [3.7000e+01, 0.0000e+00, 0.0000e+00, 2.0000e+00, 2.6010e+03, 1.0000e+00,\n",
      "         0.0000e+00, 4.0000e+00, 7.2200e+02, 1.0000e+00, 3.2000e+01]])\n",
      "[35, 36, 3, 4, 5, 6, 7, 8, 9, 10, 11, 12, 13, 14, 15, 16, 17, 18, 19, 20, 21, 22, 23, 24, 25, 26, 27, 28, 29, 30, 31, 37]\n",
      "===============\n",
      "===============\n",
      "tensor([[ 3.,  0.,  0.,  2.,  0.,  1.,  0., 33.,  0.,  0.,  2.],\n",
      "        [ 4.,  0.,  1.,  2.,  0.,  1.,  0., 33.,  0.,  0.,  3.]])\n",
      "[35, 36, 3, 4, 5, 6, 7, 8, 9, 10, 11, 12, 13, 14, 15, 16, 17, 18, 19, 20, 21, 22, 23, 24, 25, 26, 27, 28, 29, 30, 31, 37]\n",
      "===============\n",
      "===============\n",
      "tensor([[ 5.,  0.,  2.,  2.,  0.,  1.,  0., 33.,  0.,  0.,  4.],\n",
      "        [ 6.,  0.,  3.,  2.,  0.,  1.,  0., 33.,  0.,  0.,  5.]])\n",
      "[35, 36, 3, 4, 5, 6, 7, 8, 9, 10, 11, 12, 13, 14, 15, 16, 17, 18, 19, 20, 21, 22, 23, 24, 25, 26, 27, 28, 29, 30, 31, 37]\n",
      "===============\n"
     ]
    },
    {
     "name": "stderr",
     "output_type": "stream",
     "text": [
      "  0%|          | 38/512034 [00:02<7:59:28, 17.80it/s, loss=nan]"
     ]
    },
    {
     "name": "stdout",
     "output_type": "stream",
     "text": [
      "===============\n",
      "tensor([[23.,  0.,  4.,  2.,  0.,  1.,  0., 33.,  0.,  0., 22.],\n",
      "        [24.,  0.,  5.,  2.,  0.,  1.,  0., 33.,  0.,  0., 23.]])\n",
      "[35, 36, 3, 4, 5, 6, 7, 8, 9, 10, 11, 12, 13, 14, 15, 16, 17, 18, 19, 20, 21, 22, 23, 24, 25, 26, 27, 28, 29, 30, 31, 37]\n",
      "===============\n",
      "===============\n",
      "tensor([[25.,  0.,  6.,  2.,  0.,  1.,  0., 33.,  0.,  0., 24.],\n",
      "        [26.,  0.,  7.,  2.,  0.,  1.,  0., 33.,  0.,  0., 25.]])\n",
      "[35, 36, 3, 4, 5, 6, 7, 8, 9, 10, 11, 12, 13, 14, 15, 16, 17, 18, 19, 20, 21, 22, 23, 24, 25, 26, 27, 28, 29, 30, 31, 37]\n",
      "===============\n",
      "===============\n",
      "tensor([[35.,  0.,  8.,  2.,  0.,  1.,  0., 33.,  0.,  0.,  0.],\n",
      "        [27.,  0.,  0.,  2.,  0.,  1.,  0., 26.,  0.,  0., 26.]])\n",
      "[35, 36, 3, 4, 5, 6, 7, 8, 9, 10, 11, 12, 13, 14, 15, 16, 17, 18, 19, 20, 21, 22, 23, 24, 25, 26, 27, 28, 29, 30, 31, 37]\n",
      "===============\n",
      "===============\n",
      "tensor([[28.,  0.,  1.,  2.,  0.,  1.,  0., 26.,  0.,  0., 27.],\n",
      "        [29.,  0.,  2.,  2.,  0.,  1.,  0., 26.,  0.,  0., 28.]])\n",
      "[35, 36, 3, 4, 5, 6, 7, 8, 9, 10, 11, 12, 13, 14, 15, 16, 17, 18, 19, 20, 21, 22, 23, 24, 25, 26, 27, 28, 29, 30, 31, 37]\n",
      "===============\n"
     ]
    },
    {
     "name": "stderr",
     "output_type": "stream",
     "text": [
      "  0%|          | 42/512034 [00:02<8:09:35, 17.43it/s, loss=nan]"
     ]
    },
    {
     "name": "stdout",
     "output_type": "stream",
     "text": [
      "===============\n",
      "tensor([[30.,  0.,  3.,  2.,  0.,  1.,  0., 26.,  0.,  0., 29.],\n",
      "        [36.,  0.,  4.,  2.,  0.,  1.,  0., 26.,  0.,  0.,  1.]])\n",
      "[35, 36, 3, 4, 5, 6, 7, 8, 9, 10, 11, 12, 13, 14, 15, 16, 17, 18, 19, 20, 21, 22, 23, 24, 25, 26, 27, 28, 29, 30, 31, 37]\n",
      "===============\n",
      "===============\n",
      "tensor([[3.8000e+01, 0.0000e+00, 0.0000e+00, 2.0000e+00, 2.6160e+03, 1.0000e+00,\n",
      "         0.0000e+00, 9.0000e+00, 7.2200e+02, 1.0000e+00, 3.2000e+01],\n",
      "        [3.0000e+00, 0.0000e+00, 0.0000e+00, 2.0000e+00, 0.0000e+00, 1.0000e+00,\n",
      "         0.0000e+00, 3.3000e+01, 0.0000e+00, 0.0000e+00, 2.0000e+00]])\n",
      "[35, 36, 3, 4, 5, 6, 7, 8, 9, 10, 11, 12, 13, 14, 15, 16, 17, 18, 19, 20, 21, 22, 23, 24, 25, 26, 27, 28, 29, 30, 31, 38]\n",
      "===============\n",
      "===============\n",
      "tensor([[ 4.,  0.,  1.,  2.,  0.,  1.,  0., 33.,  0.,  0.,  3.],\n",
      "        [ 5.,  0.,  2.,  2.,  0.,  1.,  0., 33.,  0.,  0.,  4.]])\n",
      "[35, 36, 3, 4, 5, 6, 7, 8, 9, 10, 11, 12, 13, 14, 15, 16, 17, 18, 19, 20, 21, 22, 23, 24, 25, 26, 27, 28, 29, 30, 31, 38]\n",
      "===============\n",
      "===============\n",
      "tensor([[ 6.,  0.,  3.,  2.,  0.,  1.,  0., 33.,  0.,  0.,  5.],\n",
      "        [23.,  0.,  4.,  2.,  0.,  1.,  0., 33.,  0.,  0., 22.]])\n",
      "[35, 36, 3, 4, 5, 6, 7, 8, 9, 10, 11, 12, 13, 14, 15, 16, 17, 18, 19, 20, 21, 22, 23, 24, 25, 26, 27, 28, 29, 30, 31, 38]\n",
      "===============\n"
     ]
    },
    {
     "name": "stderr",
     "output_type": "stream",
     "text": [
      "  0%|          | 46/512034 [00:02<8:27:55, 16.80it/s, loss=nan]"
     ]
    },
    {
     "name": "stdout",
     "output_type": "stream",
     "text": [
      "===============\n",
      "tensor([[24.,  0.,  5.,  2.,  0.,  1.,  0., 33.,  0.,  0., 23.],\n",
      "        [25.,  0.,  6.,  2.,  0.,  1.,  0., 33.,  0.,  0., 24.]])\n",
      "[35, 36, 3, 4, 5, 6, 7, 8, 9, 10, 11, 12, 13, 14, 15, 16, 17, 18, 19, 20, 21, 22, 23, 24, 25, 26, 27, 28, 29, 30, 31, 38]\n",
      "===============\n",
      "===============\n",
      "tensor([[26.,  0.,  7.,  2.,  0.,  1.,  0., 33.,  0.,  0., 25.],\n",
      "        [35.,  0.,  8.,  2.,  0.,  1.,  0., 33.,  0.,  0.,  0.]])\n",
      "[35, 36, 3, 4, 5, 6, 7, 8, 9, 10, 11, 12, 13, 14, 15, 16, 17, 18, 19, 20, 21, 22, 23, 24, 25, 26, 27, 28, 29, 30, 31, 38]\n",
      "===============\n",
      "===============\n",
      "tensor([[27.,  0.,  0.,  2.,  0.,  1.,  0., 26.,  0.,  0., 26.],\n",
      "        [28.,  0.,  1.,  2.,  0.,  1.,  0., 26.,  0.,  0., 27.]])\n",
      "[35, 36, 3, 4, 5, 6, 7, 8, 9, 10, 11, 12, 13, 14, 15, 16, 17, 18, 19, 20, 21, 22, 23, 24, 25, 26, 27, 28, 29, 30, 31, 38]\n",
      "===============\n",
      "===============\n",
      "tensor([[29.,  0.,  2.,  2.,  0.,  1.,  0., 26.,  0.,  0., 28.],\n",
      "        [30.,  0.,  3.,  2.,  0.,  1.,  0., 26.,  0.,  0., 29.]])\n",
      "[35, 36, 3, 4, 5, 6, 7, 8, 9, 10, 11, 12, 13, 14, 15, 16, 17, 18, 19, 20, 21, 22, 23, 24, 25, 26, 27, 28, 29, 30, 31, 38]\n",
      "===============\n"
     ]
    },
    {
     "name": "stderr",
     "output_type": "stream",
     "text": [
      "  0%|          | 48/512034 [00:03<8:32:10, 16.66it/s, loss=nan]"
     ]
    },
    {
     "name": "stdout",
     "output_type": "stream",
     "text": [
      "===============\n",
      "tensor([[36.,  0.,  4.,  2.,  0.,  1.,  0., 26.,  0.,  0.,  1.],\n",
      "        [39.,  0.,  5.,  2.,  0.,  1.,  0., 26.,  0.,  0., 32.]])\n",
      "[35, 36, 3, 4, 5, 6, 7, 8, 9, 10, 11, 12, 13, 14, 15, 16, 17, 18, 19, 20, 21, 22, 23, 24, 39, 26, 27, 28, 29, 30, 31, 38]\n",
      "===============\n",
      "===============\n",
      "tensor([[4.0000e+01, 0.0000e+00, 0.0000e+00, 2.0000e+00, 2.6030e+03, 1.0000e+00,\n",
      "         0.0000e+00, 6.0000e+00, 7.2200e+02, 1.0000e+00, 3.2000e+01],\n",
      "        [4.1000e+01, 0.0000e+00, 1.0000e+00, 2.0000e+00, 2.6030e+03, 1.0000e+00,\n",
      "         0.0000e+00, 6.0000e+00, 7.2200e+02, 1.0000e+00, 3.2000e+01]])\n",
      "[40, 36, 3, 4, 5, 6, 7, 8, 9, 10, 11, 12, 13, 14, 15, 16, 17, 18, 19, 20, 21, 22, 23, 24, 39, 41, 27, 28, 29, 30, 31, 38]\n",
      "===============\n",
      "===============\n",
      "tensor([[4.2000e+01, 0.0000e+00, 2.0000e+00, 2.0000e+00, 2.6030e+03, 1.0000e+00,\n",
      "         0.0000e+00, 6.0000e+00, 7.2200e+02, 1.0000e+00, 3.2000e+01],\n",
      "        [4.3000e+01, 0.0000e+00, 3.0000e+00, 2.0000e+00, 2.6030e+03, 1.0000e+00,\n",
      "         0.0000e+00, 6.0000e+00, 7.2200e+02, 1.0000e+00, 3.2000e+01]])\n",
      "[40, 36, 3, 4, 5, 6, 7, 8, 9, 10, 11, 12, 13, 14, 15, 16, 17, 18, 19, 20, 21, 22, 43, 42, 39, 41, 27, 28, 29, 30, 31, 38]\n",
      "===============\n"
     ]
    },
    {
     "name": "stderr",
     "output_type": "stream",
     "text": [
      "  0%|          | 52/512034 [00:03<8:59:57, 15.80it/s, loss=nan]"
     ]
    },
    {
     "name": "stdout",
     "output_type": "stream",
     "text": [
      "===============\n",
      "tensor([[4.4000e+01, 0.0000e+00, 4.0000e+00, 2.0000e+00, 2.6030e+03, 1.0000e+00,\n",
      "         0.0000e+00, 6.0000e+00, 7.2200e+02, 1.0000e+00, 3.2000e+01],\n",
      "        [3.0000e+00, 0.0000e+00, 0.0000e+00, 2.0000e+00, 0.0000e+00, 1.0000e+00,\n",
      "         0.0000e+00, 3.3000e+01, 0.0000e+00, 0.0000e+00, 2.0000e+00]])\n",
      "[40, 36, 3, 4, 5, 6, 7, 8, 9, 10, 11, 12, 13, 14, 15, 16, 17, 18, 19, 20, 21, 22, 44, 42, 39, 41, 27, 28, 29, 30, 31, 38]\n",
      "===============\n",
      "===============\n",
      "tensor([[ 4.,  0.,  1.,  2.,  0.,  1.,  0., 33.,  0.,  0.,  3.],\n",
      "        [ 5.,  0.,  2.,  2.,  0.,  1.,  0., 33.,  0.,  0.,  4.]])\n",
      "[40, 36, 3, 4, 5, 6, 7, 8, 9, 10, 11, 12, 13, 14, 15, 16, 17, 18, 19, 20, 21, 22, 44, 42, 39, 41, 27, 28, 29, 30, 31, 38]\n",
      "===============\n",
      "===============\n",
      "tensor([[ 6.,  0.,  3.,  2.,  0.,  1.,  0., 33.,  0.,  0.,  5.],\n",
      "        [27.,  0.,  0.,  2.,  0.,  1.,  0., 26.,  0.,  0., 26.]])\n",
      "[40, 36, 3, 4, 5, 6, 7, 8, 9, 10, 11, 12, 13, 14, 15, 16, 17, 18, 19, 20, 21, 22, 44, 42, 39, 41, 27, 28, 29, 30, 31, 38]\n",
      "===============\n",
      "===============\n",
      "tensor([[28.,  0.,  1.,  2.,  0.,  1.,  0., 26.,  0.,  0., 27.],\n",
      "        [29.,  0.,  2.,  2.,  0.,  1.,  0., 26.,  0.,  0., 28.]])\n",
      "[40, 36, 3, 4, 5, 6, 7, 8, 9, 10, 11, 12, 13, 14, 15, 16, 17, 18, 19, 20, 21, 22, 44, 42, 39, 41, 27, 28, 29, 30, 31, 38]\n",
      "===============\n"
     ]
    },
    {
     "name": "stderr",
     "output_type": "stream",
     "text": [
      "  0%|          | 56/512034 [00:03<9:10:22, 15.50it/s, loss=nan]"
     ]
    },
    {
     "name": "stdout",
     "output_type": "stream",
     "text": [
      "===============\n",
      "tensor([[30.,  0.,  3.,  2.,  0.,  1.,  0., 26.,  0.,  0., 29.],\n",
      "        [36.,  0.,  4.,  2.,  0.,  1.,  0., 26.,  0.,  0.,  1.]])\n",
      "[40, 36, 3, 4, 5, 6, 7, 8, 9, 10, 11, 12, 13, 14, 15, 16, 17, 18, 19, 20, 21, 22, 44, 42, 39, 41, 27, 28, 29, 30, 31, 38]\n",
      "===============\n",
      "===============\n",
      "tensor([[39.,  0.,  5.,  2.,  0.,  1.,  0., 26.,  0.,  0., 24.],\n",
      "        [45.,  0.,  6.,  2.,  0.,  1.,  0., 26.,  0.,  0., 32.]])\n",
      "[40, 36, 3, 4, 5, 6, 7, 8, 9, 10, 11, 12, 13, 14, 15, 16, 17, 18, 19, 20, 21, 22, 44, 42, 45, 41, 27, 28, 29, 30, 31, 38]\n",
      "===============\n",
      "===============\n",
      "tensor([[46.,  0.,  7.,  2.,  0.,  1.,  0., 26.,  0.,  0., 32.],\n",
      "        [47.,  0.,  8.,  2.,  0.,  1.,  0., 26.,  0.,  0., 32.]])\n",
      "[40, 36, 3, 4, 5, 6, 7, 8, 9, 10, 11, 12, 13, 14, 15, 16, 17, 18, 19, 20, 21, 22, 44, 42, 47, 41, 27, 28, 29, 30, 31, 38]\n",
      "===============\n"
     ]
    },
    {
     "name": "stderr",
     "output_type": "stream",
     "text": [
      "  0%|          | 60/512034 [00:03<8:54:32, 15.96it/s, loss=nan]"
     ]
    },
    {
     "name": "stdout",
     "output_type": "stream",
     "text": [
      "===============\n",
      "tensor([[48.,  0.,  9.,  2.,  0.,  1.,  0., 26.,  0.,  0., 32.],\n",
      "        [17.,  0., 10.,  2.,  0.,  1.,  0., 26.,  0.,  0., 16.]])\n",
      "[40, 36, 3, 4, 5, 6, 7, 8, 9, 10, 11, 12, 13, 14, 15, 16, 17, 18, 19, 20, 21, 22, 44, 42, 48, 41, 27, 28, 29, 30, 31, 38]\n",
      "===============\n",
      "===============\n",
      "tensor([[18.,  0., 11.,  2.,  0.,  1.,  0., 26.,  0.,  0., 17.],\n",
      "        [19.,  0., 12.,  2.,  0.,  1.,  0., 26.,  0.,  0., 18.]])\n",
      "[40, 36, 3, 4, 5, 6, 7, 8, 9, 10, 11, 12, 13, 14, 15, 16, 17, 18, 19, 20, 21, 22, 44, 42, 48, 41, 27, 28, 29, 30, 31, 38]\n",
      "===============\n",
      "===============\n",
      "tensor([[20.,  0., 13.,  2.,  0.,  1.,  0., 26.,  0.,  0., 19.],\n",
      "        [21.,  0., 14.,  2.,  0.,  1.,  0., 26.,  0.,  0., 20.]])\n",
      "[40, 36, 3, 4, 5, 6, 7, 8, 9, 10, 11, 12, 13, 14, 15, 16, 17, 18, 19, 20, 21, 22, 44, 42, 48, 41, 27, 28, 29, 30, 31, 38]\n",
      "===============\n",
      "===============\n",
      "tensor([[22.,  0., 15.,  2.,  0.,  1.,  0., 26.,  0.,  0., 21.],\n",
      "        [ 7.,  0., 16.,  2.,  0.,  1.,  0., 26.,  0.,  0.,  6.]])\n",
      "[40, 36, 3, 4, 5, 6, 7, 8, 9, 10, 11, 12, 13, 14, 15, 16, 17, 18, 19, 20, 21, 22, 44, 42, 48, 41, 27, 28, 29, 30, 31, 38]\n",
      "===============\n"
     ]
    },
    {
     "name": "stderr",
     "output_type": "stream",
     "text": [
      "  0%|          | 64/512034 [00:03<8:11:24, 17.36it/s, loss=nan]"
     ]
    },
    {
     "name": "stdout",
     "output_type": "stream",
     "text": [
      "===============\n",
      "tensor([[ 8.,  0., 17.,  2.,  0.,  1.,  0., 26.,  0.,  0.,  7.],\n",
      "        [ 9.,  0., 18.,  2.,  0.,  1.,  0., 26.,  0.,  0.,  8.]])\n",
      "[40, 36, 3, 4, 5, 6, 7, 8, 9, 10, 11, 12, 13, 14, 15, 16, 17, 18, 19, 20, 21, 22, 44, 42, 48, 41, 27, 28, 29, 30, 31, 38]\n",
      "===============\n",
      "===============\n",
      "tensor([[10.,  0., 19.,  2.,  0.,  1.,  0., 26.,  0.,  0.,  9.],\n",
      "        [11.,  0., 20.,  2.,  0.,  1.,  0., 26.,  0.,  0., 10.]])\n",
      "[40, 36, 3, 4, 5, 6, 7, 8, 9, 10, 11, 12, 13, 14, 15, 16, 17, 18, 19, 20, 21, 22, 44, 42, 48, 41, 27, 28, 29, 30, 31, 38]\n",
      "===============\n",
      "===============\n",
      "tensor([[12.,  0., 21.,  2.,  0.,  1.,  0., 26.,  0.,  0., 11.],\n",
      "        [13.,  0., 22.,  2.,  0.,  1.,  0., 26.,  0.,  0., 12.]])\n",
      "[40, 36, 3, 4, 5, 6, 7, 8, 9, 10, 11, 12, 13, 14, 15, 16, 17, 18, 19, 20, 21, 22, 44, 42, 48, 41, 27, 28, 29, 30, 31, 38]\n",
      "===============\n",
      "===============\n",
      "tensor([[14.,  0., 23.,  2.,  0.,  1.,  0., 26.,  0.,  0., 13.],\n",
      "        [15.,  0., 24.,  2.,  0.,  1.,  0., 26.,  0.,  0., 14.]])\n",
      "[40, 36, 3, 4, 5, 6, 7, 8, 9, 10, 11, 12, 13, 14, 15, 16, 17, 18, 19, 20, 21, 22, 44, 42, 48, 41, 27, 28, 29, 30, 31, 38]\n",
      "===============\n"
     ]
    },
    {
     "name": "stderr",
     "output_type": "stream",
     "text": [
      "  0%|          | 65/512034 [00:03<8:42:04, 16.34it/s, loss=nan]\n"
     ]
    },
    {
     "name": "stdout",
     "output_type": "stream",
     "text": [
      "===============\n",
      "tensor([[1.6000e+01, 0.0000e+00, 2.5000e+01, 2.0000e+00, 0.0000e+00, 1.0000e+00,\n",
      "         0.0000e+00, 2.6000e+01, 0.0000e+00, 0.0000e+00, 1.5000e+01],\n",
      "        [3.1000e+01, 0.0000e+00, 0.0000e+00, 2.0000e+00, 2.6100e+03, 1.0000e+00,\n",
      "         0.0000e+00, 2.1000e+01, 7.2200e+02, 1.0000e+00, 3.0000e+01]])\n",
      "[40, 36, 3, 4, 5, 6, 7, 8, 9, 10, 11, 12, 13, 14, 15, 16, 17, 18, 19, 20, 21, 22, 44, 42, 48, 41, 27, 28, 29, 30, 31, 38]\n",
      "===============\n"
     ]
    },
    {
     "ename": "KeyboardInterrupt",
     "evalue": "",
     "output_type": "error",
     "traceback": [
      "\u001b[0;31m---------------------------------------------------------------------------\u001b[0m",
      "\u001b[0;31mKeyboardInterrupt\u001b[0m                         Traceback (most recent call last)",
      "Cell \u001b[0;32mIn[27], line 37\u001b[0m\n\u001b[1;32m     34\u001b[0m masked_losses \u001b[38;5;241m=\u001b[39m losses[hit_fail_mask]\n\u001b[1;32m     35\u001b[0m loss_value \u001b[38;5;241m=\u001b[39m masked_losses\u001b[38;5;241m.\u001b[39mmean()\n\u001b[0;32m---> 37\u001b[0m \u001b[43mloss_value\u001b[49m\u001b[38;5;241;43m.\u001b[39;49m\u001b[43mbackward\u001b[49m\u001b[43m(\u001b[49m\u001b[43m)\u001b[49m\n\u001b[1;32m     39\u001b[0m f\u001b[38;5;241m.\u001b[39mwrite(\u001b[38;5;124m\"\u001b[39m\u001b[38;5;124m=========================\u001b[39m\u001b[38;5;130;01m\\n\u001b[39;00m\u001b[38;5;124m\"\u001b[39m)\n\u001b[1;32m     40\u001b[0m \u001b[38;5;28;01mfor\u001b[39;00m i \u001b[38;5;129;01min\u001b[39;00m \u001b[38;5;28mrange\u001b[39m(\u001b[38;5;28mlen\u001b[39m(hit_fail_mask)):\n",
      "File \u001b[0;32m~/repos/masters_nir/diplom/src/.venv/lib/python3.11/site-packages/torch/_tensor.py:581\u001b[0m, in \u001b[0;36mTensor.backward\u001b[0;34m(self, gradient, retain_graph, create_graph, inputs)\u001b[0m\n\u001b[1;32m    571\u001b[0m \u001b[38;5;28;01mif\u001b[39;00m has_torch_function_unary(\u001b[38;5;28mself\u001b[39m):\n\u001b[1;32m    572\u001b[0m     \u001b[38;5;28;01mreturn\u001b[39;00m handle_torch_function(\n\u001b[1;32m    573\u001b[0m         Tensor\u001b[38;5;241m.\u001b[39mbackward,\n\u001b[1;32m    574\u001b[0m         (\u001b[38;5;28mself\u001b[39m,),\n\u001b[0;32m   (...)\u001b[0m\n\u001b[1;32m    579\u001b[0m         inputs\u001b[38;5;241m=\u001b[39minputs,\n\u001b[1;32m    580\u001b[0m     )\n\u001b[0;32m--> 581\u001b[0m \u001b[43mtorch\u001b[49m\u001b[38;5;241;43m.\u001b[39;49m\u001b[43mautograd\u001b[49m\u001b[38;5;241;43m.\u001b[39;49m\u001b[43mbackward\u001b[49m\u001b[43m(\u001b[49m\n\u001b[1;32m    582\u001b[0m \u001b[43m    \u001b[49m\u001b[38;5;28;43mself\u001b[39;49m\u001b[43m,\u001b[49m\u001b[43m \u001b[49m\u001b[43mgradient\u001b[49m\u001b[43m,\u001b[49m\u001b[43m \u001b[49m\u001b[43mretain_graph\u001b[49m\u001b[43m,\u001b[49m\u001b[43m \u001b[49m\u001b[43mcreate_graph\u001b[49m\u001b[43m,\u001b[49m\u001b[43m \u001b[49m\u001b[43minputs\u001b[49m\u001b[38;5;241;43m=\u001b[39;49m\u001b[43minputs\u001b[49m\n\u001b[1;32m    583\u001b[0m \u001b[43m\u001b[49m\u001b[43m)\u001b[49m\n",
      "File \u001b[0;32m~/repos/masters_nir/diplom/src/.venv/lib/python3.11/site-packages/torch/autograd/__init__.py:347\u001b[0m, in \u001b[0;36mbackward\u001b[0;34m(tensors, grad_tensors, retain_graph, create_graph, grad_variables, inputs)\u001b[0m\n\u001b[1;32m    342\u001b[0m     retain_graph \u001b[38;5;241m=\u001b[39m create_graph\n\u001b[1;32m    344\u001b[0m \u001b[38;5;66;03m# The reason we repeat the same comment below is that\u001b[39;00m\n\u001b[1;32m    345\u001b[0m \u001b[38;5;66;03m# some Python versions print out the first line of a multi-line function\u001b[39;00m\n\u001b[1;32m    346\u001b[0m \u001b[38;5;66;03m# calls in the traceback and some print out the last line\u001b[39;00m\n\u001b[0;32m--> 347\u001b[0m \u001b[43m_engine_run_backward\u001b[49m\u001b[43m(\u001b[49m\n\u001b[1;32m    348\u001b[0m \u001b[43m    \u001b[49m\u001b[43mtensors\u001b[49m\u001b[43m,\u001b[49m\n\u001b[1;32m    349\u001b[0m \u001b[43m    \u001b[49m\u001b[43mgrad_tensors_\u001b[49m\u001b[43m,\u001b[49m\n\u001b[1;32m    350\u001b[0m \u001b[43m    \u001b[49m\u001b[43mretain_graph\u001b[49m\u001b[43m,\u001b[49m\n\u001b[1;32m    351\u001b[0m \u001b[43m    \u001b[49m\u001b[43mcreate_graph\u001b[49m\u001b[43m,\u001b[49m\n\u001b[1;32m    352\u001b[0m \u001b[43m    \u001b[49m\u001b[43minputs\u001b[49m\u001b[43m,\u001b[49m\n\u001b[1;32m    353\u001b[0m \u001b[43m    \u001b[49m\u001b[43mallow_unreachable\u001b[49m\u001b[38;5;241;43m=\u001b[39;49m\u001b[38;5;28;43;01mTrue\u001b[39;49;00m\u001b[43m,\u001b[49m\n\u001b[1;32m    354\u001b[0m \u001b[43m    \u001b[49m\u001b[43maccumulate_grad\u001b[49m\u001b[38;5;241;43m=\u001b[39;49m\u001b[38;5;28;43;01mTrue\u001b[39;49;00m\u001b[43m,\u001b[49m\n\u001b[1;32m    355\u001b[0m \u001b[43m\u001b[49m\u001b[43m)\u001b[49m\n",
      "File \u001b[0;32m~/repos/masters_nir/diplom/src/.venv/lib/python3.11/site-packages/torch/autograd/graph.py:825\u001b[0m, in \u001b[0;36m_engine_run_backward\u001b[0;34m(t_outputs, *args, **kwargs)\u001b[0m\n\u001b[1;32m    823\u001b[0m     unregister_hooks \u001b[38;5;241m=\u001b[39m _register_logging_hooks_on_whole_graph(t_outputs)\n\u001b[1;32m    824\u001b[0m \u001b[38;5;28;01mtry\u001b[39;00m:\n\u001b[0;32m--> 825\u001b[0m     \u001b[38;5;28;01mreturn\u001b[39;00m \u001b[43mVariable\u001b[49m\u001b[38;5;241;43m.\u001b[39;49m\u001b[43m_execution_engine\u001b[49m\u001b[38;5;241;43m.\u001b[39;49m\u001b[43mrun_backward\u001b[49m\u001b[43m(\u001b[49m\u001b[43m  \u001b[49m\u001b[38;5;66;43;03m# Calls into the C++ engine to run the backward pass\u001b[39;49;00m\n\u001b[1;32m    826\u001b[0m \u001b[43m        \u001b[49m\u001b[43mt_outputs\u001b[49m\u001b[43m,\u001b[49m\u001b[43m \u001b[49m\u001b[38;5;241;43m*\u001b[39;49m\u001b[43margs\u001b[49m\u001b[43m,\u001b[49m\u001b[43m \u001b[49m\u001b[38;5;241;43m*\u001b[39;49m\u001b[38;5;241;43m*\u001b[39;49m\u001b[43mkwargs\u001b[49m\n\u001b[1;32m    827\u001b[0m \u001b[43m    \u001b[49m\u001b[43m)\u001b[49m  \u001b[38;5;66;03m# Calls into the C++ engine to run the backward pass\u001b[39;00m\n\u001b[1;32m    828\u001b[0m \u001b[38;5;28;01mfinally\u001b[39;00m:\n\u001b[1;32m    829\u001b[0m     \u001b[38;5;28;01mif\u001b[39;00m attach_logging_hooks:\n",
      "\u001b[0;31mKeyboardInterrupt\u001b[0m: "
     ]
    }
   ],
   "source": [
    "loss = torch.nn.CrossEntropyLoss(reduction='none') # Установим 'none' для получения потерь по каждому элементу\n",
    "optimizer = torch.optim.Adam(model.parameters(), lr=1e-3)\n",
    "\n",
    "f = open(\"train.txt\", \"w\")\n",
    "\n",
    "h, c = None, None\n",
    "model.train()\n",
    "for epoch in range(5):\n",
    "    buffer = [Page(-1, -1, -1, -1, -1, -1, -1, -1, -1, -1, 0)] * BUFFER_SIZE\n",
    "\n",
    "    loss_sum = 0\n",
    "    pbar = tqdm(range(0, TRAIN_SIZE, BATCH_SIZE))\n",
    "    for i in pbar:\n",
    "        batch_start = i\n",
    "        # batch_end = i + BATCH_SIZE if i + BATCH_SIZE < TRAIN_SIZE else TRAIN_SIZE\n",
    "        batch_end = i + BATCH_SIZE\n",
    "        if batch_end >= TRAIN_SIZE:\n",
    "            continue\n",
    "        pages_acc, buffers, optimal_predictions, buffer, hit_fail_mask = get_train_data(pages, buffer, batch_start, batch_end)\n",
    "        optimal_predictions = torch.argmax(optimal_predictions, dim=1)\n",
    "    \n",
    "        optimizer.zero_grad()\n",
    "\n",
    "        out, h, c = model.forward(pages_acc.to(device), buffers.to(device), h, c)\n",
    "        h.to(device)\n",
    "        c.to(device)\n",
    "\n",
    "        losses = loss(out, optimal_predictions.to(device))\n",
    "        masked_losses = losses[hit_fail_mask]\n",
    "        loss_value = masked_losses.mean()\n",
    "    \n",
    "        loss_value.backward()\n",
    "\n",
    "        f.write(\"=========================\\n\")\n",
    "        for i in range(len(hit_fail_mask)):\n",
    "            if hit_fail_mask[i]:\n",
    "                f.write(f\"{i}. ////\\n\")\n",
    "                f.write(f\"{out[i]}\\n\")\n",
    "                f.write(f\"{optimal_predictions[i]}\\n\")\n",
    "\n",
    "                for name, param in model.named_parameters():\n",
    "                    if param.grad is not None:\n",
    "                        f.write(f\"{name}: {param.grad.abs().mean()}\\n\")\n",
    "\n",
    "                f.write(\"////\\n\")\n",
    "        f.write(\"=========================\\n\")\n",
    "\n",
    "        optimizer.step()\n",
    "    \n",
    "        h = h.detach()\n",
    "        c = c.detach()\n",
    "\n",
    "        loss_sum += loss_value.item()\n",
    "        loss_avg = loss_sum / (batch_end // BATCH_SIZE)\n",
    "\n",
    "        pbar.set_postfix_str(f\"loss={loss_avg}\")\n",
    "\n",
    "f.close()"
   ]
  },
  {
   "cell_type": "markdown",
   "metadata": {},
   "source": [
    "# **TEST**"
   ]
  },
  {
   "cell_type": "code",
   "execution_count": 8,
   "metadata": {},
   "outputs": [
    {
     "data": {
      "text/plain": [
       "PageAccModel(\n",
       "  (_page_acc_enc): Sequential(\n",
       "    (0): Linear(in_features=11, out_features=256, bias=True)\n",
       "    (1): BatchNorm1d(256, eps=1e-05, momentum=0.1, affine=True, track_running_stats=True)\n",
       "    (2): ReLU()\n",
       "    (3): Linear(in_features=256, out_features=128, bias=True)\n",
       "    (4): BatchNorm1d(128, eps=1e-05, momentum=0.1, affine=True, track_running_stats=True)\n",
       "    (5): ReLU()\n",
       "  )\n",
       "  (_lstm): LSTM(128, 512, batch_first=True)\n",
       "  (_buf_page_enc): Sequential(\n",
       "    (0): Linear(in_features=352, out_features=128, bias=True)\n",
       "    (1): BatchNorm1d(128, eps=1e-05, momentum=0.1, affine=True, track_running_stats=True)\n",
       "    (2): ReLU()\n",
       "    (3): Linear(in_features=128, out_features=4096, bias=True)\n",
       "    (4): BatchNorm1d(4096, eps=1e-05, momentum=0.1, affine=True, track_running_stats=True)\n",
       "    (5): ReLU()\n",
       "  )\n",
       "  (_page_evict): Sequential(\n",
       "    (0): Linear(in_features=4608, out_features=512, bias=True)\n",
       "    (1): BatchNorm1d(512, eps=1e-05, momentum=0.1, affine=True, track_running_stats=True)\n",
       "    (2): ReLU()\n",
       "    (3): Linear(in_features=512, out_features=32, bias=True)\n",
       "  )\n",
       ")"
      ]
     },
     "execution_count": 8,
     "metadata": {},
     "output_type": "execute_result"
    }
   ],
   "source": [
    "model.load_state_dict(torch.load(\"results/data/tpcc_32/model.pth\", map_location=device, weights_only=True))\n",
    "model.to(device)"
   ]
  },
  {
   "cell_type": "code",
   "execution_count": 9,
   "metadata": {},
   "outputs": [
    {
     "ename": "",
     "evalue": "",
     "output_type": "error",
     "traceback": [
      "\u001b[1;31mThe Kernel crashed while executing code in the current cell or a previous cell. \n",
      "\u001b[1;31mPlease review the code in the cell(s) to identify a possible cause of the failure. \n",
      "\u001b[1;31mClick <a href='https://aka.ms/vscodeJupyterKernelCrash'>here</a> for more info. \n",
      "\u001b[1;31mView Jupyter <a href='command:jupyter.viewOutput'>log</a> for further details."
     ]
    }
   ],
   "source": [
    "sm = torch.jit.script(model)"
   ]
  },
  {
   "cell_type": "code",
   "execution_count": 19,
   "metadata": {},
   "outputs": [],
   "source": [
    "class IPageVictimStrategy(ABC):\n",
    "    @abstractmethod\n",
    "    def forward(page: Page, buffer: list[Page]):\n",
    "        pass"
   ]
  },
  {
   "cell_type": "code",
   "execution_count": 20,
   "metadata": {},
   "outputs": [],
   "source": [
    "def get_metrics(pages: list[Page], evict_strategy: IPageVictimStrategy):\n",
    "    buffer = [Page(-1, -1, -1, -1, -1, -1, -1, -1, -1, -1, 0)] * BUFFER_SIZE\n",
    "\n",
    "    hits = 0\n",
    "    pbar = tqdm(range(len(pages)))\n",
    "    for i in pbar:\n",
    "        page = pages[i]\n",
    "        victim = evict_strategy.forward(page, buffer)\n",
    "        if victim < 0:\n",
    "            hits += 1\n",
    "        else:\n",
    "            buffer[victim] = deepcopy(page)\n",
    "            buffer[victim].hit = 1\n",
    "        \n",
    "        pbar.set_postfix_str(f\"hit_rate={hits / (i + 1)}\")\n",
    "    \n",
    "    return hits / len(pages)"
   ]
  },
  {
   "cell_type": "code",
   "execution_count": 21,
   "metadata": {},
   "outputs": [],
   "source": [
    "class ModelVictimStrategy(IPageVictimStrategy):\n",
    "    def __init__(self, model: PageAccModel):\n",
    "        self._model = model\n",
    "        self._h = None\n",
    "        self._c = None\n",
    "\n",
    "        self._model.eval()\n",
    "\n",
    "    def forward(self, page: Page, buffer: list[Page]):\n",
    "        page_tensor = torch.Tensor(list(asdict(page).values()))\n",
    "        already_in_buf = any(buf.buffer == page.buffer for buf in buffer)\n",
    "        page_tensor[-1] = int(already_in_buf)\n",
    "        page_tensor = page_tensor.view(1, len(page_tensor))\n",
    "        page_tensor.to(device)\n",
    "\n",
    "        buffer_tensor = torch.Tensor([value for obj in buffer for value in asdict(obj).values()])\n",
    "        buffer_tensor = buffer_tensor.view(1, len(buffer_tensor))\n",
    "        buffer_tensor.to(device)\n",
    "\n",
    "        out, self._h, self._c = self._model.forward(page_tensor, buffer_tensor, self._h, self._c)\n",
    "        self._h.to(device)\n",
    "        self._c.to(device)\n",
    "\n",
    "        if already_in_buf:\n",
    "            return -1\n",
    "        \n",
    "        return torch.argmax(out, dim=1)[0]"
   ]
  },
  {
   "cell_type": "code",
   "execution_count": null,
   "metadata": {},
   "outputs": [],
   "source": [
    "class OptimalVictimStrategy(IPageVictimStrategy):\n",
    "    def __init__(self):\n",
    "        self.i = 0\n",
    "    def forward(self, page: Page, buffer: list[Page]):\n",
    "        pass"
   ]
  },
  {
   "cell_type": "code",
   "execution_count": 22,
   "metadata": {},
   "outputs": [],
   "source": [
    "model_evict_strategy = ModelVictimStrategy(model)"
   ]
  },
  {
   "cell_type": "code",
   "execution_count": 23,
   "metadata": {},
   "outputs": [
    {
     "name": "stderr",
     "output_type": "stream",
     "text": [
      "  4%|▍         | 39571/1024067 [02:29<1:01:51, 265.27it/s, hit_rate=0.11932981223623361] \n"
     ]
    },
    {
     "ename": "KeyboardInterrupt",
     "evalue": "",
     "output_type": "error",
     "traceback": [
      "\u001b[0;31m---------------------------------------------------------------------------\u001b[0m",
      "\u001b[0;31mKeyboardInterrupt\u001b[0m                         Traceback (most recent call last)",
      "Cell \u001b[0;32mIn[23], line 1\u001b[0m\n\u001b[0;32m----> 1\u001b[0m hit_rate \u001b[38;5;241m=\u001b[39m \u001b[43mget_metrics\u001b[49m\u001b[43m(\u001b[49m\u001b[43mpages\u001b[49m\u001b[43m,\u001b[49m\u001b[43m \u001b[49m\u001b[43mmodel_evict_strategy\u001b[49m\u001b[43m)\u001b[49m\n\u001b[1;32m      2\u001b[0m hit_rate\n",
      "Cell \u001b[0;32mIn[20], line 8\u001b[0m, in \u001b[0;36mget_metrics\u001b[0;34m(pages, evict_strategy)\u001b[0m\n\u001b[1;32m      6\u001b[0m \u001b[38;5;28;01mfor\u001b[39;00m i \u001b[38;5;129;01min\u001b[39;00m pbar:\n\u001b[1;32m      7\u001b[0m     page \u001b[38;5;241m=\u001b[39m pages[i]\n\u001b[0;32m----> 8\u001b[0m     victim \u001b[38;5;241m=\u001b[39m \u001b[43mevict_strategy\u001b[49m\u001b[38;5;241;43m.\u001b[39;49m\u001b[43mforward\u001b[49m\u001b[43m(\u001b[49m\u001b[43mpage\u001b[49m\u001b[43m,\u001b[49m\u001b[43m \u001b[49m\u001b[43mbuffer\u001b[49m\u001b[43m)\u001b[49m\n\u001b[1;32m      9\u001b[0m     \u001b[38;5;28;01mif\u001b[39;00m victim \u001b[38;5;241m<\u001b[39m \u001b[38;5;241m0\u001b[39m:\n\u001b[1;32m     10\u001b[0m         hits \u001b[38;5;241m+\u001b[39m\u001b[38;5;241m=\u001b[39m \u001b[38;5;241m1\u001b[39m\n",
      "Cell \u001b[0;32mIn[21], line 23\u001b[0m, in \u001b[0;36mModelVictimStrategy.forward\u001b[0;34m(self, page, buffer)\u001b[0m\n\u001b[1;32m     20\u001b[0m \u001b[38;5;28;01mif\u001b[39;00m already_in_buf:\n\u001b[1;32m     21\u001b[0m     \u001b[38;5;28;01mreturn\u001b[39;00m \u001b[38;5;241m-\u001b[39m\u001b[38;5;241m1\u001b[39m\n\u001b[0;32m---> 23\u001b[0m \u001b[38;5;28;01mreturn\u001b[39;00m \u001b[43mtorch\u001b[49m\u001b[38;5;241;43m.\u001b[39;49m\u001b[43margmax\u001b[49m\u001b[43m(\u001b[49m\u001b[43mout\u001b[49m\u001b[43m,\u001b[49m\u001b[43m \u001b[49m\u001b[43mdim\u001b[49m\u001b[38;5;241;43m=\u001b[39;49m\u001b[38;5;241;43m1\u001b[39;49m\u001b[43m)\u001b[49m[\u001b[38;5;241m0\u001b[39m]\n",
      "\u001b[0;31mKeyboardInterrupt\u001b[0m: "
     ]
    }
   ],
   "source": [
    "hit_rate = get_metrics(pages, model_evict_strategy)\n",
    "hit_rate"
   ]
  }
 ],
 "metadata": {
  "kernelspec": {
   "display_name": ".venv",
   "language": "python",
   "name": "python3"
  },
  "language_info": {
   "codemirror_mode": {
    "name": "ipython",
    "version": 3
   },
   "file_extension": ".py",
   "mimetype": "text/x-python",
   "name": "python",
   "nbconvert_exporter": "python",
   "pygments_lexer": "ipython3",
   "version": "3.11.0rc1"
  }
 },
 "nbformat": 4,
 "nbformat_minor": 2
}
