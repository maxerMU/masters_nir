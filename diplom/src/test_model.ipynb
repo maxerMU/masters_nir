{
 "cells": [
  {
   "cell_type": "code",
   "execution_count": 11,
   "metadata": {},
   "outputs": [],
   "source": [
    "from abc import ABC, abstractmethod\n",
    "from dataclasses import dataclass, fields, asdict\n",
    "import gc\n",
    "from tqdm import tqdm\n",
    "\n",
    "import torch\n",
    "\n",
    "from model.model import PageAccModel\n",
    "from logfile_reader import read_pages, read_optimal_results, Page"
   ]
  },
  {
   "cell_type": "code",
   "execution_count": 12,
   "metadata": {},
   "outputs": [],
   "source": [
    "BUFFER_SIZE = 32\n",
    "TRAIN_PART = 0.7\n",
    "RESULTS_DIR = \"results/data/tpcc_32/\""
   ]
  },
  {
   "cell_type": "code",
   "execution_count": 13,
   "metadata": {},
   "outputs": [],
   "source": [
    "pages = read_pages(RESULTS_DIR + \"logfile\")\n",
    "train_size = int(len(pages) * TRAIN_PART)\n",
    "test_size = len(pages) - train_size\n",
    "train_pages = pages[:train_size]\n",
    "test_pages = pages[train_size:]"
   ]
  },
  {
   "cell_type": "code",
   "execution_count": 14,
   "metadata": {},
   "outputs": [],
   "source": [
    "class IPageVictimStrategy(ABC):\n",
    "    @abstractmethod\n",
    "    def forward(page: Page, buffer: list[Page]):\n",
    "        pass"
   ]
  },
  {
   "cell_type": "code",
   "execution_count": 15,
   "metadata": {},
   "outputs": [],
   "source": [
    "def get_metrics(pages: list[Page], evict_strategy: IPageVictimStrategy):\n",
    "    buffer = [Page(-1, -1, -1, -1, -1, -1, -1, -1, -1, -1, 0)] * BUFFER_SIZE\n",
    "\n",
    "    hits = 0\n",
    "    hit_rates = []\n",
    "    pbar = tqdm(range(len(pages)))\n",
    "    for i in pbar:\n",
    "        page = pages[i]\n",
    "        victim = evict_strategy.forward(page, buffer)\n",
    "        if victim < 0:\n",
    "            hits += 1\n",
    "        else:\n",
    "            # buffer[victim] = deepcopy(page)\n",
    "            buffer[victim] = page\n",
    "            buffer[victim].hit = victim\n",
    "        \n",
    "        hit_rates.append(hits / (i + 1))\n",
    "\n",
    "        if i % 1000 == 0:\n",
    "            pbar.set_postfix_str(f\"hit_rate={hits / (i + 1)}\")\n",
    "    \n",
    "    return hit_rates"
   ]
  },
  {
   "cell_type": "code",
   "execution_count": 16,
   "metadata": {},
   "outputs": [],
   "source": [
    "class ModelVictimStrategy(IPageVictimStrategy):\n",
    "    def __init__(self, model: PageAccModel):\n",
    "        self._model = model\n",
    "        self._h = None\n",
    "        self._c = None\n",
    "\n",
    "        self._model.eval()\n",
    "\n",
    "    def forward(self, page: Page, buffer: list[Page]):\n",
    "        page_tensor = torch.Tensor(list(asdict(page).values()))\n",
    "        page_in_buffer = next(filter(lambda x: x[1].buffer == page.buffer, enumerate(buffer)), None)\n",
    "        page_already_in_buf = page_in_buffer is not None\n",
    "        if page_already_in_buf:\n",
    "            page_tensor[-1] = int(page_in_buffer[0])\n",
    "        page_tensor = page_tensor.view(1, len(page_tensor))\n",
    "\n",
    "        buffer_tensor = torch.Tensor([value for obj in buffer for value in asdict(obj).values()])\n",
    "        buffer_tensor = buffer_tensor.view(1, len(buffer_tensor))\n",
    "\n",
    "        with torch.no_grad():\n",
    "            out, self._h, self._c = self._model.forward(page_tensor, buffer_tensor, page_already_in_buf, self._h, self._c)\n",
    "\n",
    "        self._h.detach()\n",
    "        self._c.detach()\n",
    "\n",
    "        if page_already_in_buf:\n",
    "            return -1\n",
    "\n",
    "        return torch.argmax(out, dim=1)[0]"
   ]
  },
  {
   "cell_type": "code",
   "execution_count": 17,
   "metadata": {},
   "outputs": [],
   "source": [
    "device = torch.device(\"cuda\" if torch.cuda.is_available() else \"cpu\")\n",
    "model = PageAccModel(11, 512, 1024, 32)\n",
    "model.load_state_dict(torch.load(RESULTS_DIR + \"model.pth\", map_location=device, weights_only=True))\n",
    "model.eval()\n",
    "\n",
    "model_evict_strategy = ModelVictimStrategy(model)"
   ]
  },
  {
   "cell_type": "code",
   "execution_count": 18,
   "metadata": {},
   "outputs": [
    {
     "name": "stderr",
     "output_type": "stream",
     "text": [
      "100%|██████████| 307221/307221 [48:12<00:00, 106.21it/s, hit_rate=0.3736437340594982] \n"
     ]
    }
   ],
   "source": [
    "hit_rate = get_metrics(test_pages, model_evict_strategy)"
   ]
  }
 ],
 "metadata": {
  "kernelspec": {
   "display_name": ".venv",
   "language": "python",
   "name": "python3"
  },
  "language_info": {
   "codemirror_mode": {
    "name": "ipython",
    "version": 3
   },
   "file_extension": ".py",
   "mimetype": "text/x-python",
   "name": "python",
   "nbconvert_exporter": "python",
   "pygments_lexer": "ipython3",
   "version": "3.11.0"
  }
 },
 "nbformat": 4,
 "nbformat_minor": 2
}
