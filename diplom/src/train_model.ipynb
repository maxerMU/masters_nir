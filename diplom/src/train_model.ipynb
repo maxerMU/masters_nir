{
 "cells": [
  {
   "cell_type": "code",
   "execution_count": 50,
   "metadata": {},
   "outputs": [],
   "source": [
    "import re\n",
    "import seaborn as sns\n",
    "import threading\n",
    "from tqdm import tqdm\n",
    "import torch\n",
    "\n",
    "from dataclasses import dataclass, fields, asdict\n",
    "from model.model import PageAccModel"
   ]
  },
  {
   "cell_type": "code",
   "execution_count": 51,
   "metadata": {},
   "outputs": [],
   "source": [
    "@dataclass\n",
    "class Page:\n",
    "    buffer: int\n",
    "    is_local_temp: int\n",
    "    fork_num: int\n",
    "    block_num: int\n",
    "    mode: int\n",
    "    relam: int\n",
    "    relfilenode: int\n",
    "    relhasindex: int\n",
    "    relpersistence: int\n",
    "    relkind: int\n",
    "    relnatts: int\n",
    "    relfrozenxid: int\n",
    "    relminmxid: int\n",
    "    hit: int"
   ]
  },
  {
   "cell_type": "code",
   "execution_count": 52,
   "metadata": {},
   "outputs": [],
   "source": [
    "with open(\"train_data/acc_logfile2\", \"r\") as file:\n",
    "    data = file.read()\n",
    "\n",
    "pattern = r\"buffer={(\\d+)} is_local_temp={(\\w+)} fork_num={(\\w+)} block_num={(\\d+)} mode={(\\w+)} strategy={} relam={(\\d+)} relfilenode={(\\d+)} relhasindex={(\\w+)} relpersistence={(\\w+)} relkind={(\\w+)} relnatts={(\\d+)} relfrozenxid={(\\d+)} relminmxid={(\\d+)} hit={(\\w+)}\"\n",
    "matches = re.findall(pattern, data)\n",
    "\n",
    "pages = []\n",
    "\n",
    "for match in matches:\n",
    "    buffer = int(match[0])\n",
    "    is_local_temp = 1 if match[1] == \"true\" else 0\n",
    "    fork_num = [\"MAIN_FORKNUM\", \"FSM_FORKNUM\", \"VISIBILITYMAP_FORKNUM\", \"INIT_FORKNUM\"].index(match[2])\n",
    "    block_num = int(match[3])\n",
    "    mode = [\"RBM_NORMAL\", \"RBM_ZERO_AND_LOCK\", \"RBM_ZERO_AND_CLEANUP_LOCK\", \"RBM_ZERO_ON_ERROR\", \"RBM_NORMAL_NO_LOG\"].index(match[4])\n",
    "    relam = int(match[5])\n",
    "    relfilenode = int(match[6])\n",
    "    relhasindex = 1 if match[7] == \"true\" else 0\n",
    "    relpersistence = [\"p\", \"u\", \"t\"].index(match[8])\n",
    "    relkind = [\"r\", \"i\", \"S\", \"t\", \"v\", \"m\", \"c\", \"f\", \"p\", \"I\"].index(match[9])\n",
    "    relnatts = int(match[10])\n",
    "    relfrozenxid = int(match[11])\n",
    "    relminmxid = int(match[12])\n",
    "    hit = 1 if match[13] == \"true\" else 0\n",
    "\n",
    "    page = Page(\n",
    "        buffer,\n",
    "        is_local_temp, \n",
    "        fork_num,\n",
    "        block_num,\n",
    "        mode,\n",
    "        relam,\n",
    "        relfilenode,\n",
    "        relhasindex,\n",
    "        relpersistence,\n",
    "        relkind,\n",
    "        relnatts,\n",
    "        relfrozenxid,\n",
    "        relminmxid,\n",
    "        hit,\n",
    "    )\n",
    "    pages.append(page)"
   ]
  },
  {
   "cell_type": "code",
   "execution_count": 53,
   "metadata": {},
   "outputs": [],
   "source": [
    "with open(\"train_data/acc_logfile2_pages\", \"w\") as f:\n",
    "    for page in pages:\n",
    "        f.write(f\"{page.buffer}\\n\")\n"
   ]
  },
  {
   "cell_type": "code",
   "execution_count": 54,
   "metadata": {},
   "outputs": [
    {
     "name": "stdout",
     "output_type": "stream",
     "text": [
      "1024067\n"
     ]
    }
   ],
   "source": [
    "print(len(pages))"
   ]
  },
  {
   "cell_type": "code",
   "execution_count": 55,
   "metadata": {},
   "outputs": [],
   "source": [
    "# evict page with last access\n",
    "def find_optimal_victim(page_access_ar, buf, current_index):\n",
    "    #MAX_RATE = 10000\n",
    "    evict_ind = 0\n",
    "    evict_rate = 0\n",
    "\n",
    "    # mutex = threading.Lock()\n",
    "\n",
    "    def check_items_rate(start, stop):\n",
    "        nonlocal evict_ind\n",
    "        nonlocal evict_rate\n",
    "\n",
    "        for i in range(start, stop):\n",
    "            rate = 0\n",
    "            for page in page_access_ar[current_index:]:\n",
    "                rate += 1\n",
    "                if page == buf[i]:\n",
    "                    break\n",
    "            \n",
    "            # with mutex:\n",
    "            if rate > evict_rate:\n",
    "                evict_rate = rate\n",
    "                evict_ind = i\n",
    "    \n",
    "    check_items_rate(0, len(buf))\n",
    "    # threads = []\n",
    "    # threads_count = 16\n",
    "    # step = len(buf) // threads_count\n",
    "    # for i in range(threads_count):\n",
    "    #     start = i * step\n",
    "    #     stop = len(buf) if i == threads_count - 1 else (i + 1) * step\n",
    "    #     check_items_rate(start, stop)\n",
    "    #     # thread = threading.Thread(target=lambda: check_items_rate(start, stop))\n",
    "    #     # threads.append(thread)\n",
    "    #     # thread.start()\n",
    "\n",
    "    # for thread in threads:\n",
    "    #     thread.join()\n",
    "    \n",
    "    return evict_ind\n",
    " \n",
    "def find_optimal_hit_rate(page_access_ar, buf_size):\n",
    "    buf = []\n",
    "    hit = 0\n",
    "    # for i, page in tqdm(enumerate(page_access_ar)):\n",
    "    for i in tqdm(range(len(page_access_ar))):\n",
    "        page = page_access_ar[i]\n",
    "        if page in buf:\n",
    "            hit += 1\n",
    "            continue\n",
    "\n",
    "        if len(buf) < buf_size:\n",
    "            buf.append(page)\n",
    "        else:\n",
    "            evict_ind = find_optimal_victim(page_access_ar, buf, i)\n",
    "            buf[evict_ind] = page\n",
    "    \n",
    "    return hit / len(page_access_ar)"
   ]
  },
  {
   "cell_type": "code",
   "execution_count": 61,
   "metadata": {},
   "outputs": [],
   "source": [
    "optimal_results = []\n",
    "with open(\"train_data/acc_logfile2_victims\", \"r\") as f:\n",
    "    for line in f:\n",
    "        optimal_results.append(int(line))"
   ]
  },
  {
   "cell_type": "code",
   "execution_count": 91,
   "metadata": {},
   "outputs": [],
   "source": [
    "TRAIN_SIZE = len(pages)\n",
    "BATCH_SIZE = 2048\n",
    "BUFFER_SIZE = 32"
   ]
  },
  {
   "cell_type": "code",
   "execution_count": 89,
   "metadata": {},
   "outputs": [
    {
     "data": {
      "text/plain": [
       "1024067"
      ]
     },
     "execution_count": 89,
     "metadata": {},
     "output_type": "execute_result"
    }
   ],
   "source": [
    "TRAIN_SIZE"
   ]
  },
  {
   "cell_type": "code",
   "execution_count": 58,
   "metadata": {},
   "outputs": [
    {
     "data": {
      "text/plain": [
       "0.6318912727389907"
      ]
     },
     "execution_count": 58,
     "metadata": {},
     "output_type": "execute_result"
    }
   ],
   "source": [
    "sum([page.hit for page in pages[:TRAIN_SIZE]]) / TRAIN_SIZE"
   ]
  },
  {
   "cell_type": "code",
   "execution_count": 63,
   "metadata": {},
   "outputs": [
    {
     "data": {
      "text/plain": [
       "0.3155281832145748"
      ]
     },
     "execution_count": 63,
     "metadata": {},
     "output_type": "execute_result"
    }
   ],
   "source": [
    "# find_optimal_hit_rate([page.buffer for page in pages[:TRAIN_SIZE]], BUFFER_SIZE)\n",
    "sum([1 if victim < BUFFER_SIZE else 0 for victim in optimal_results[:TRAIN_SIZE]]) / TRAIN_SIZE"
   ]
  },
  {
   "cell_type": "code",
   "execution_count": 64,
   "metadata": {},
   "outputs": [
    {
     "data": {
      "text/plain": [
       "<Axes: ylabel='Count'>"
      ]
     },
     "execution_count": 64,
     "metadata": {},
     "output_type": "execute_result"
    },
    {
     "data": {
      "image/png": "[encoded data removed]",
      "text/plain": [
       "<Figure size 640x480 with 1 Axes>"
      ]
     },
     "metadata": {},
     "output_type": "display_data"
    }
   ],
   "source": [
    "sns.histplot([victim for victim in optimal_results[:TRAIN_SIZE] if victim < BUFFER_SIZE])"
   ]
  },
  {
   "cell_type": "code",
   "execution_count": 86,
   "metadata": {},
   "outputs": [],
   "source": [
    "def get_model_optimal_res(pages, buffer, current_index):\n",
    "    res = [0] * (len(buffer) + 1)\n",
    "    if (current_index >= len(pages)):\n",
    "        print(f\"ERROR: current_index=={current_index} pages.size() == {len(pages)}\")\n",
    "\n",
    "    already_in_buf = any(buf.buffer == pages[current_index].buffer for buf in buffer)\n",
    "    if already_in_buf:\n",
    "        res[-1] = 1\n",
    "        return res, -1\n",
    "    \n",
    "    empty_pages = [index for index, value in enumerate(buffer) if value.buffer == -1]\n",
    "    if len(empty_pages) > 0:\n",
    "        for i in empty_pages:\n",
    "            res[i] = 1 / len(empty_pages)\n",
    "        \n",
    "        return res, empty_pages[0]\n",
    "    \n",
    "    #victim = find_optimal_victim(pages, [page.buffer for page in buffer], current_index)\n",
    "    victim = optimal_results[current_index]\n",
    "    res[victim] = 1\n",
    "\n",
    "    return res, victim"
   ]
  },
  {
   "cell_type": "code",
   "execution_count": 97,
   "metadata": {},
   "outputs": [],
   "source": [
    "def get_train_data(pages, buffer, batch_start, batch_end):\n",
    "    pages_acc = torch.Tensor([list(asdict(page).values()) for page in pages[batch_start:batch_end]])\n",
    "\n",
    "    buffers = []\n",
    "    optimal_predictions = []\n",
    "\n",
    "    for i in range(batch_start, batch_end):\n",
    "        if i == TRAIN_SIZE:\n",
    "            print(f\"STRANGE: i=={i} bathc_end=={batch_end}\")\n",
    "\n",
    "        buffers.append([value for obj in buffer for value in asdict(obj).values()])\n",
    "\n",
    "        res, victim = get_model_optimal_res(pages, buffer, i)\n",
    "        optimal_predictions.append(res)\n",
    "\n",
    "        if victim >= 0:\n",
    "            if victim == BUFFER_SIZE:\n",
    "                print(f\"ERROR: {victim} {batch_start} {batch_end} {i}\")\n",
    "            buffer[victim] = pages[i]\n",
    "    \n",
    "    return pages_acc, torch.Tensor(buffers), torch.Tensor(optimal_predictions), buffer\n"
   ]
  },
  {
   "cell_type": "code",
   "execution_count": 99,
   "metadata": {},
   "outputs": [],
   "source": [
    "model = PageAccModel(len(fields(Page)), 32, BUFFER_SIZE)"
   ]
  },
  {
   "cell_type": "code",
   "execution_count": 100,
   "metadata": {},
   "outputs": [
    {
     "name": "stderr",
     "output_type": "stream",
     "text": [
      "100%|██████████| 501/501 [08:13<00:00,  1.02it/s, loss=3.5373759880065916]\n",
      "100%|██████████| 501/501 [07:52<00:00,  1.06it/s, loss=2.876401465892792] \n",
      "100%|██████████| 501/501 [08:03<00:00,  1.04it/s, loss=2.862808359622955] \n",
      "100%|██████████| 501/501 [07:48<00:00,  1.07it/s, loss=2.8628083786964416]\n",
      "100%|██████████| 501/501 [07:44<00:00,  1.08it/s, loss=2.8628083786964416]\n"
     ]
    }
   ],
   "source": [
    "loss = torch.nn.CrossEntropyLoss()\n",
    "optimizer = torch.optim.Adam(model.parameters(), lr=1e-3)\n",
    "\n",
    "h, c = None, None\n",
    "\n",
    "model.train()\n",
    "for epoch in range(5):\n",
    "    buffer = [Page(-1, -1, -1, -1, -1, -1, -1, -1, -1, -1, -1, -1, -1, -1)] * BUFFER_SIZE\n",
    "    loss_sum = 0\n",
    "    pbar = tqdm(range(0, TRAIN_SIZE, BATCH_SIZE))\n",
    "    for i in pbar:\n",
    "        batch_start = i\n",
    "        # batch_end = i + BATCH_SIZE if i + BATCH_SIZE < TRAIN_SIZE else TRAIN_SIZE\n",
    "        batch_end = i + BATCH_SIZE\n",
    "        if batch_end >= TRAIN_SIZE:\n",
    "            continue\n",
    "        pages_acc, buffers, optimal_predictions, buffer = get_train_data(pages, buffer, batch_start, batch_end)\n",
    "    \n",
    "        optimizer.zero_grad()\n",
    "    \n",
    "        out, h, c = model.forward(pages_acc, buffers, h, c)\n",
    "        # print(out)\n",
    "    \n",
    "        loss_value = loss(out, optimal_predictions)\n",
    "    \n",
    "        loss_value.backward()\n",
    "        optimizer.step()\n",
    "    \n",
    "        h = h.detach()\n",
    "        c = c.detach()\n",
    "\n",
    "        loss_sum += loss_value.item()\n",
    "        loss_avg = loss_sum / (batch_end // BATCH_SIZE)\n",
    "\n",
    "        pbar.set_postfix_str(f\"loss={loss_avg}\")"
   ]
  }
 ],
 "metadata": {
  "kernelspec": {
   "display_name": ".venv",
   "language": "python",
   "name": "python3"
  },
  "language_info": {
   "codemirror_mode": {
    "name": "ipython",
    "version": 3
   },
   "file_extension": ".py",
   "mimetype": "text/x-python",
   "name": "python",
   "nbconvert_exporter": "python",
   "pygments_lexer": "ipython3",
   "version": "3.11.0rc1"
  }
 },
 "nbformat": 4,
 "nbformat_minor": 2
}
